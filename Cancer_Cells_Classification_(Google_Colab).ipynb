{
  "nbformat": 4,
  "nbformat_minor": 0,
  "metadata": {
    "colab": {
      "name": "Cancer-Cells-Classification (Google Colab)",
      "version": "0.3.2",
      "provenance": []
    },
    "kernelspec": {
      "name": "python3",
      "display_name": "Python 3"
    },
    "accelerator": "GPU"
  },
  "cells": [
    {
      "metadata": {
        "id": "K2v754aDBpsk",
        "colab_type": "code",
        "colab": {}
      },
      "cell_type": "code",
      "source": [
        "from google.colab import drive\n",
        "drive.mount('/content/drive')"
      ],
      "execution_count": 0,
      "outputs": []
    },
    {
      "metadata": {
        "id": "jSmdHHzDr-xC",
        "colab_type": "code",
        "colab": {
          "base_uri": "https://localhost:8080/",
          "height": 34
        },
        "outputId": "2705f5ef-296d-4aa9-b799-d2bc6df14fbd"
      },
      "cell_type": "code",
      "source": [
        "import pandas as pd\n",
        "from keras.models import Model, Sequential\n",
        "from keras.layers import Activation, Dropout, Flatten, Dense, GlobalAveragePooling2D, Conv2D, MaxPooling2D, Input, Concatenate\n",
        "from keras.layers.normalization import BatchNormalization\n",
        "import keras \n",
        "import os \n",
        "\n",
        "from keras.applications import VGG16, Xception, NASNetMobile\n",
        "from keras.applications.vgg16 import preprocess_input\n",
        "from keras.callbacks import ModelCheckpoint\n",
        "\n",
        "from keras.preprocessing.image import ImageDataGenerator\n",
        "from keras.optimizers import Adam, SGD\n",
        "from IPython.display import display\n",
        "from PIL import Image"
      ],
      "execution_count": 2,
      "outputs": [
        {
          "output_type": "stream",
          "text": [
            "Using TensorFlow backend.\n"
          ],
          "name": "stderr"
        }
      ]
    },
    {
      "metadata": {
        "id": "zfQj-Wg0ulTd",
        "colab_type": "code",
        "colab": {
          "base_uri": "https://localhost:8080/",
          "height": 136
        },
        "outputId": "b2bf197f-b79d-4e53-b858-383abef7ae88"
      },
      "cell_type": "code",
      "source": [
        "# Hackish way of doing things \n",
        "# !rm -rf Cancer-Cells-Classification\n",
        "# !git clone https://github.com/lionellloh/Cancer-Cells-Classification.git\n",
        "# # !wget https://github.com/fchollet/deep-learning-models/releases/download/v0.1/vgg19_weights_tf_dim_ordering_tf_kernels.h5"
      ],
      "execution_count": 3,
      "outputs": [
        {
          "output_type": "stream",
          "text": [
            "Cloning into 'Cancer-Cells-Classification'...\n",
            "remote: Enumerating objects: 519, done.\u001b[K\n",
            "remote: Counting objects:   0% (1/519)   \u001b[K\rremote: Counting objects:   1% (6/519)   \u001b[K\rremote: Counting objects:   2% (11/519)   \u001b[K\rremote: Counting objects:   3% (16/519)   \u001b[K\rremote: Counting objects:   4% (21/519)   \u001b[K\rremote: Counting objects:   5% (26/519)   \u001b[K\rremote: Counting objects:   6% (32/519)   \u001b[K\rremote: Counting objects:   7% (37/519)   \u001b[K\rremote: Counting objects:   8% (42/519)   \u001b[K\rremote: Counting objects:   9% (47/519)   \u001b[K\rremote: Counting objects:  10% (52/519)   \u001b[K\rremote: Counting objects:  11% (58/519)   \u001b[K\rremote: Counting objects:  12% (63/519)   \u001b[K\rremote: Counting objects:  13% (68/519)   \u001b[K\rremote: Counting objects:  14% (73/519)   \u001b[K\rremote: Counting objects:  15% (78/519)   \u001b[K\rremote: Counting objects:  16% (84/519)   \u001b[K\rremote: Counting objects:  17% (89/519)   \u001b[K\rremote: Counting objects:  18% (94/519)   \u001b[K\rremote: Counting objects:  19% (99/519)   \u001b[K\rremote: Counting objects:  20% (104/519)   \u001b[K\rremote: Counting objects:  21% (109/519)   \u001b[K\rremote: Counting objects:  22% (115/519)   \u001b[K\rremote: Counting objects:  23% (120/519)   \u001b[K\rremote: Counting objects:  24% (125/519)   \u001b[K\rremote: Counting objects:  25% (130/519)   \u001b[K\rremote: Counting objects:  26% (135/519)   \u001b[K\rremote: Counting objects:  27% (141/519)   \u001b[K\rremote: Counting objects:  28% (146/519)   \u001b[K\rremote: Counting objects:  29% (151/519)   \u001b[K\rremote: Counting objects:  30% (156/519)   \u001b[K\rremote: Counting objects:  31% (161/519)   \u001b[K\rremote: Counting objects:  32% (167/519)   \u001b[K\rremote: Counting objects:  33% (172/519)   \u001b[K\rremote: Counting objects:  34% (177/519)   \u001b[K\rremote: Counting objects:  35% (182/519)   \u001b[K\rremote: Counting objects:  36% (187/519)   \u001b[K\rremote: Counting objects:  37% (193/519)   \u001b[K\rremote: Counting objects:  38% (198/519)   \u001b[K\rremote: Counting objects:  39% (203/519)   \u001b[K\rremote: Counting objects:  40% (208/519)   \u001b[K\rremote: Counting objects:  41% (213/519)   \u001b[K\rremote: Counting objects:  42% (218/519)   \u001b[K\rremote: Counting objects:  43% (224/519)   \u001b[K\rremote: Counting objects:  44% (229/519)   \u001b[K\rremote: Counting objects:  45% (234/519)   \u001b[K\rremote: Counting objects:  46% (239/519)   \u001b[K\rremote: Counting objects:  47% (244/519)   \u001b[K\rremote: Counting objects:  48% (250/519)   \u001b[K\rremote: Counting objects:  49% (255/519)   \u001b[K\rremote: Counting objects:  50% (260/519)   \u001b[K\rremote: Counting objects:  51% (265/519)   \u001b[K\rremote: Counting objects:  52% (270/519)   \u001b[K\rremote: Counting objects:  53% (276/519)   \u001b[K\rremote: Counting objects:  54% (281/519)   \u001b[K\rremote: Counting objects:  55% (286/519)   \u001b[K\rremote: Counting objects:  56% (291/519)   \u001b[K\rremote: Counting objects:  57% (296/519)   \u001b[K\rremote: Counting objects:  58% (302/519)   \u001b[K\rremote: Counting objects:  59% (307/519)   \u001b[K\rremote: Counting objects:  60% (312/519)   \u001b[K\rremote: Counting objects:  61% (317/519)   \u001b[K\rremote: Counting objects:  62% (322/519)   \u001b[K\rremote: Counting objects:  63% (327/519)   \u001b[K\rremote: Counting objects:  64% (333/519)   \u001b[K\rremote: Counting objects:  65% (338/519)   \u001b[K\rremote: Counting objects:  66% (343/519)   \u001b[K\rremote: Counting objects:  67% (348/519)   \u001b[K\rremote: Counting objects:  68% (353/519)   \u001b[K\rremote: Counting objects:  69% (359/519)   \u001b[K\rremote: Counting objects:  70% (364/519)   \u001b[K\rremote: Counting objects:  71% (369/519)   \u001b[K\rremote: Counting objects:  72% (374/519)   \u001b[K\rremote: Counting objects:  73% (379/519)   \u001b[K\rremote: Counting objects:  74% (385/519)   \u001b[K\rremote: Counting objects:  75% (390/519)   \u001b[K\rremote: Counting objects:  76% (395/519)   \u001b[K\rremote: Counting objects:  77% (400/519)   \u001b[K\rremote: Counting objects:  78% (405/519)   \u001b[K\rremote: Counting objects:  79% (411/519)   \u001b[K\rremote: Counting objects:  80% (416/519)   \u001b[K\rremote: Counting objects:  81% (421/519)   \u001b[K\rremote: Counting objects:  82% (426/519)   \u001b[K\rremote: Counting objects:  83% (431/519)   \u001b[K\rremote: Counting objects:  84% (436/519)   \u001b[K\rremote: Counting objects:  85% (442/519)   \u001b[K\rremote: Counting objects:  86% (447/519)   \u001b[K\rremote: Counting objects:  87% (452/519)   \u001b[K\rremote: Counting objects:  88% (457/519)   \u001b[K\rremote: Counting objects:  89% (462/519)   \u001b[K\rremote: Counting objects:  90% (468/519)   \u001b[K\rremote: Counting objects:  91% (473/519)   \u001b[K\rremote: Counting objects:  92% (478/519)   \u001b[K\rremote: Counting objects:  93% (483/519)   \u001b[K\rremote: Counting objects:  94% (488/519)   \u001b[K\rremote: Counting objects:  95% (494/519)   \u001b[K\rremote: Counting objects:  96% (499/519)   \u001b[K\rremote: Counting objects:  97% (504/519)   \u001b[K\rremote: Counting objects:  98% (509/519)   \u001b[K\rremote: Counting objects:  99% (514/519)   \u001b[K\rremote: Counting objects: 100% (519/519)   \u001b[K\rremote: Counting objects: 100% (519/519), done.\u001b[K\n",
            "remote: Compressing objects: 100% (516/516), done.\u001b[K\n",
            "remote: Total 519 (delta 5), reused 517 (delta 3), pack-reused 0\u001b[K\n",
            "Receiving objects: 100% (519/519), 56.35 MiB | 23.21 MiB/s, done.\n",
            "Resolving deltas: 100% (5/5), done.\n"
          ],
          "name": "stdout"
        }
      ]
    },
    {
      "metadata": {
        "id": "SIETfIFvsjyN",
        "colab_type": "code",
        "colab": {
          "base_uri": "https://localhost:8080/",
          "height": 139
        },
        "outputId": "06dbae96-2b1c-4644-eaac-9426060f5498"
      },
      "cell_type": "code",
      "source": [
        "default_model = VGG16(weights = None, include_top = False)\n",
        "\n",
        "x = default_model.output \n",
        "x = GlobalAveragePooling2D()(x)\n",
        "x = Dense(1024, activation='relu')(x)\n",
        "x = Dense(256, activation='relu')(x)\n",
        "x = Dense(64, activation='relu')(x)\n",
        "x = Dropout(0.3)(x)\n",
        "# x = Dense(16, kernel_regularizer=keras.regularizers.l2(0.001),\n",
        "#                        activation='relu')(x)\n",
        "x = Dense(32, activation='relu')(x)\n",
        "x = Dense(16, activation='relu')(x)\n",
        "predictions = Dense(1, activation='sigmoid')(x)\n",
        "\n",
        "# simple_cnn = Sequential()\n",
        "# simple_cnn.add(BatchNormalization(input_shape = (224, 224, 3),name = 'NormalizeInput'))\n",
        "# simple_cnn.add(Conv2D(8, kernel_size = (3,3), padding = 'same'))\n",
        "# simple_cnn.add(Conv2D(8, kernel_size = (3,3), padding = 'same'))\n",
        "# # use dilations to get a slightly larger field of view\n",
        "# simple_cnn.add(Conv2D(16, kernel_size = (3,3), dilation_rate = 2, padding = 'same'))\n",
        "# simple_cnn.add(Conv2D(16, kernel_size = (3,3), dilation_rate = 2, padding = 'same'))\n",
        "# simple_cnn.add(Conv2D(32, kernel_size = (3,3), dilation_rate = 3, padding = 'same'))\n",
        "# # the final processing\n",
        "# simple_cnn.add(Conv2D(16, kernel_size = (1,1), padding = 'same'))\n",
        "# simple_cnn.add(Conv2D(1, kernel_size = (1,1), padding = 'same', activation = 'sigmoid'))"
      ],
      "execution_count": 4,
      "outputs": [
        {
          "output_type": "stream",
          "text": [
            "WARNING:tensorflow:From /usr/local/lib/python3.6/dist-packages/tensorflow/python/framework/op_def_library.py:263: colocate_with (from tensorflow.python.framework.ops) is deprecated and will be removed in a future version.\n",
            "Instructions for updating:\n",
            "Colocations handled automatically by placer.\n",
            "WARNING:tensorflow:From /usr/local/lib/python3.6/dist-packages/keras/backend/tensorflow_backend.py:3445: calling dropout (from tensorflow.python.ops.nn_ops) with keep_prob is deprecated and will be removed in a future version.\n",
            "Instructions for updating:\n",
            "Please use `rate` instead of `keep_prob`. Rate should be set to `rate = 1 - keep_prob`.\n"
          ],
          "name": "stdout"
        }
      ]
    },
    {
      "metadata": {
        "id": "Wa3Iq-9_s7jW",
        "colab_type": "code",
        "colab": {
          "base_uri": "https://localhost:8080/",
          "height": 1071
        },
        "outputId": "4b1bd284-65b3-4424-d514-e89ff15e6b75"
      },
      "cell_type": "code",
      "source": [
        "model=Model(inputs=default_model.input, outputs = predictions)\n",
        "print(model.summary())\n",
        "\n",
        "# simple_cnn.summary()"
      ],
      "execution_count": 5,
      "outputs": [
        {
          "output_type": "stream",
          "text": [
            "_________________________________________________________________\n",
            "Layer (type)                 Output Shape              Param #   \n",
            "=================================================================\n",
            "input_1 (InputLayer)         (None, None, None, 3)     0         \n",
            "_________________________________________________________________\n",
            "block1_conv1 (Conv2D)        (None, None, None, 64)    1792      \n",
            "_________________________________________________________________\n",
            "block1_conv2 (Conv2D)        (None, None, None, 64)    36928     \n",
            "_________________________________________________________________\n",
            "block1_pool (MaxPooling2D)   (None, None, None, 64)    0         \n",
            "_________________________________________________________________\n",
            "block2_conv1 (Conv2D)        (None, None, None, 128)   73856     \n",
            "_________________________________________________________________\n",
            "block2_conv2 (Conv2D)        (None, None, None, 128)   147584    \n",
            "_________________________________________________________________\n",
            "block2_pool (MaxPooling2D)   (None, None, None, 128)   0         \n",
            "_________________________________________________________________\n",
            "block3_conv1 (Conv2D)        (None, None, None, 256)   295168    \n",
            "_________________________________________________________________\n",
            "block3_conv2 (Conv2D)        (None, None, None, 256)   590080    \n",
            "_________________________________________________________________\n",
            "block3_conv3 (Conv2D)        (None, None, None, 256)   590080    \n",
            "_________________________________________________________________\n",
            "block3_pool (MaxPooling2D)   (None, None, None, 256)   0         \n",
            "_________________________________________________________________\n",
            "block4_conv1 (Conv2D)        (None, None, None, 512)   1180160   \n",
            "_________________________________________________________________\n",
            "block4_conv2 (Conv2D)        (None, None, None, 512)   2359808   \n",
            "_________________________________________________________________\n",
            "block4_conv3 (Conv2D)        (None, None, None, 512)   2359808   \n",
            "_________________________________________________________________\n",
            "block4_pool (MaxPooling2D)   (None, None, None, 512)   0         \n",
            "_________________________________________________________________\n",
            "block5_conv1 (Conv2D)        (None, None, None, 512)   2359808   \n",
            "_________________________________________________________________\n",
            "block5_conv2 (Conv2D)        (None, None, None, 512)   2359808   \n",
            "_________________________________________________________________\n",
            "block5_conv3 (Conv2D)        (None, None, None, 512)   2359808   \n",
            "_________________________________________________________________\n",
            "block5_pool (MaxPooling2D)   (None, None, None, 512)   0         \n",
            "_________________________________________________________________\n",
            "global_average_pooling2d_1 ( (None, 512)               0         \n",
            "_________________________________________________________________\n",
            "dense_1 (Dense)              (None, 1024)              525312    \n",
            "_________________________________________________________________\n",
            "dense_2 (Dense)              (None, 256)               262400    \n",
            "_________________________________________________________________\n",
            "dense_3 (Dense)              (None, 64)                16448     \n",
            "_________________________________________________________________\n",
            "dropout_1 (Dropout)          (None, 64)                0         \n",
            "_________________________________________________________________\n",
            "dense_4 (Dense)              (None, 32)                2080      \n",
            "_________________________________________________________________\n",
            "dense_5 (Dense)              (None, 16)                528       \n",
            "_________________________________________________________________\n",
            "dense_6 (Dense)              (None, 1)                 17        \n",
            "=================================================================\n",
            "Total params: 15,521,473\n",
            "Trainable params: 15,521,473\n",
            "Non-trainable params: 0\n",
            "_________________________________________________________________\n",
            "None\n"
          ],
          "name": "stdout"
        }
      ]
    },
    {
      "metadata": {
        "id": "082kX8KPsodf",
        "colab_type": "code",
        "colab": {
          "base_uri": "https://localhost:8080/",
          "height": 476
        },
        "outputId": "75e9b470-7bef-42d7-b6f6-bd974935367a"
      },
      "cell_type": "code",
      "source": [
        "for i, layer in enumerate(model.layers):\n",
        "    if i < 15: \n",
        "        layer.trainable = False\n",
        "        \n",
        "    else: \n",
        "        layer.trainable = True\n",
        "        \n",
        "    print(f\"Layer {i}, {layer.name}, Trainable: {layer.trainable}\")"
      ],
      "execution_count": 6,
      "outputs": [
        {
          "output_type": "stream",
          "text": [
            "Layer 0, input_1, Trainable: False\n",
            "Layer 1, block1_conv1, Trainable: False\n",
            "Layer 2, block1_conv2, Trainable: False\n",
            "Layer 3, block1_pool, Trainable: False\n",
            "Layer 4, block2_conv1, Trainable: False\n",
            "Layer 5, block2_conv2, Trainable: False\n",
            "Layer 6, block2_pool, Trainable: False\n",
            "Layer 7, block3_conv1, Trainable: False\n",
            "Layer 8, block3_conv2, Trainable: False\n",
            "Layer 9, block3_conv3, Trainable: False\n",
            "Layer 10, block3_pool, Trainable: False\n",
            "Layer 11, block4_conv1, Trainable: False\n",
            "Layer 12, block4_conv2, Trainable: False\n",
            "Layer 13, block4_conv3, Trainable: False\n",
            "Layer 14, block4_pool, Trainable: False\n",
            "Layer 15, block5_conv1, Trainable: True\n",
            "Layer 16, block5_conv2, Trainable: True\n",
            "Layer 17, block5_conv3, Trainable: True\n",
            "Layer 18, block5_pool, Trainable: True\n",
            "Layer 19, global_average_pooling2d_1, Trainable: True\n",
            "Layer 20, dense_1, Trainable: True\n",
            "Layer 21, dense_2, Trainable: True\n",
            "Layer 22, dense_3, Trainable: True\n",
            "Layer 23, dropout_1, Trainable: True\n",
            "Layer 24, dense_4, Trainable: True\n",
            "Layer 25, dense_5, Trainable: True\n",
            "Layer 26, dense_6, Trainable: True\n"
          ],
          "name": "stdout"
        }
      ]
    },
    {
      "metadata": {
        "id": "Cpr0jc_Ys25j",
        "colab_type": "code",
        "colab": {
          "base_uri": "https://localhost:8080/",
          "height": 51
        },
        "outputId": "aef723ca-1bc6-4db1-eb6a-d1c750c590d3"
      },
      "cell_type": "code",
      "source": [
        "# train_datagen=ImageDataGenerator(preprocessing_function=preprocess_input)\n",
        "\n",
        "train_datagen = ImageDataGenerator(\n",
        "                  rescale = 1./255,\n",
        "                  horizontal_flip = True,\n",
        "                  fill_mode = \"nearest\",\n",
        "                  zoom_range = 0.3,\n",
        "                  width_shift_range = 0.3,\n",
        "                  height_shift_range=0.3,\n",
        "                  rotation_range=30)\n",
        "\n",
        "val_datagen = ImageDataGenerator(\n",
        "                  rescale = 1./255,\n",
        "                  horizontal_flip = True,\n",
        "                  fill_mode = \"nearest\",\n",
        "                  zoom_range = 0.3,\n",
        "                  width_shift_range = 0.3,\n",
        "                  height_shift_range=0.3,\n",
        "                  rotation_range=30)\n",
        "\n",
        "\n",
        "train_generator=train_datagen.flow_from_directory('Cancer-Cells-Classification/train',\n",
        "                                                 target_size=(224,224),\n",
        "                                                 color_mode='rgb',\n",
        "                                                 batch_size=32,\n",
        "                                                 class_mode='binary',\n",
        "                                                 shuffle=True)\n",
        "\n",
        "val_datagen= ImageDataGenerator(rescale =1./255)\n",
        "val_generator = val_datagen.flow_from_directory('Cancer-Cells-Classification/val',\n",
        "                                                 target_size=(224,224),\n",
        "                                                 color_mode='rgb',\n",
        "                                                 batch_size=32,\n",
        "                                                 class_mode='binary',\n",
        "                                                 shuffle=True)"
      ],
      "execution_count": 7,
      "outputs": [
        {
          "output_type": "stream",
          "text": [
            "Found 336 images belonging to 2 classes.\n",
            "Found 167 images belonging to 2 classes.\n"
          ],
          "name": "stdout"
        }
      ]
    },
    {
      "metadata": {
        "id": "Dah_sy9mtpLp",
        "colab_type": "code",
        "colab": {
          "base_uri": "https://localhost:8080/",
          "height": 2074
        },
        "outputId": "2a46a21e-129d-43b3-e30d-81ffa5ab818b"
      },
      "cell_type": "code",
      "source": [
        "model.compile(optimizer='adam',loss='binary_crossentropy',metrics=['accuracy'])\n",
        "mc = ModelCheckpoint('best_model.h5', monitor='val_acc', mode='max', verbose = 1, save_best_only=True)\n",
        "callbacks_list = [mc]\n",
        "step_size_train=train_generator.n//train_generator.batch_size\n",
        "step_size_val =val_generator.n//val_generator.batch_size\n",
        "\n",
        "model.fit_generator(generator=train_generator,\n",
        "                    steps_per_epoch=step_size_train,\n",
        "                    validation_data=val_generator,\n",
        "                    validation_steps=step_size_val,\n",
        "                    epochs=30, \n",
        "                    callbacks=callbacks_list)\n"
      ],
      "execution_count": 15,
      "outputs": [
        {
          "output_type": "stream",
          "text": [
            "Epoch 1/30\n",
            "10/10 [==============================] - 15s 2s/step - loss: 0.4551 - acc: 0.8063 - val_loss: 0.5591 - val_acc: 0.7125\n",
            "\n",
            "Epoch 00001: val_acc improved from -inf to 0.71250, saving model to best_model.h5\n",
            "Epoch 2/30\n",
            "10/10 [==============================] - 10s 981ms/step - loss: 0.4435 - acc: 0.8153 - val_loss: 0.5810 - val_acc: 0.6815\n",
            "\n",
            "Epoch 00002: val_acc did not improve from 0.71250\n",
            "Epoch 3/30\n",
            "10/10 [==============================] - 11s 1s/step - loss: 0.4796 - acc: 0.8065 - val_loss: 0.5836 - val_acc: 0.7333\n",
            "\n",
            "Epoch 00003: val_acc improved from 0.71250 to 0.73333, saving model to best_model.h5\n",
            "Epoch 4/30\n",
            "10/10 [==============================] - 11s 1s/step - loss: 0.4747 - acc: 0.7654 - val_loss: 0.5920 - val_acc: 0.6815\n",
            "\n",
            "Epoch 00004: val_acc did not improve from 0.73333\n",
            "Epoch 5/30\n",
            "10/10 [==============================] - 11s 1s/step - loss: 0.4269 - acc: 0.7996 - val_loss: 0.7288 - val_acc: 0.5556\n",
            "\n",
            "Epoch 00005: val_acc did not improve from 0.73333\n",
            "Epoch 6/30\n",
            "10/10 [==============================] - 11s 1s/step - loss: 0.4127 - acc: 0.8153 - val_loss: 0.7872 - val_acc: 0.5185\n",
            "\n",
            "Epoch 00006: val_acc did not improve from 0.73333\n",
            "Epoch 7/30\n",
            "10/10 [==============================] - 12s 1s/step - loss: 0.4759 - acc: 0.7774 - val_loss: 0.4442 - val_acc: 0.7750\n",
            "\n",
            "Epoch 00007: val_acc improved from 0.73333 to 0.77500, saving model to best_model.h5\n",
            "Epoch 8/30\n",
            "10/10 [==============================] - 11s 1s/step - loss: 0.4754 - acc: 0.7603 - val_loss: 0.5027 - val_acc: 0.7333\n",
            "\n",
            "Epoch 00008: val_acc did not improve from 0.77500\n",
            "Epoch 9/30\n",
            "10/10 [==============================] - 11s 1s/step - loss: 0.3983 - acc: 0.7965 - val_loss: 0.5026 - val_acc: 0.7333\n",
            "\n",
            "Epoch 00009: val_acc did not improve from 0.77500\n",
            "Epoch 10/30\n",
            "10/10 [==============================] - 11s 1s/step - loss: 0.4603 - acc: 0.7999 - val_loss: 0.5471 - val_acc: 0.7259\n",
            "\n",
            "Epoch 00010: val_acc did not improve from 0.77500\n",
            "Epoch 11/30\n",
            "10/10 [==============================] - 11s 1s/step - loss: 0.4018 - acc: 0.8276 - val_loss: 0.6093 - val_acc: 0.6519\n",
            "\n",
            "Epoch 00011: val_acc did not improve from 0.77500\n",
            "Epoch 12/30\n",
            "10/10 [==============================] - 12s 1s/step - loss: 0.4305 - acc: 0.8063 - val_loss: 0.4349 - val_acc: 0.7852\n",
            "\n",
            "Epoch 00012: val_acc improved from 0.77500 to 0.78519, saving model to best_model.h5\n",
            "Epoch 13/30\n",
            "10/10 [==============================] - 11s 1s/step - loss: 0.4400 - acc: 0.8182 - val_loss: 0.4809 - val_acc: 0.7750\n",
            "\n",
            "Epoch 00013: val_acc did not improve from 0.78519\n",
            "Epoch 14/30\n",
            "10/10 [==============================] - 11s 1s/step - loss: 0.3870 - acc: 0.8467 - val_loss: 0.6460 - val_acc: 0.6519\n",
            "\n",
            "Epoch 00014: val_acc did not improve from 0.78519\n",
            "Epoch 15/30\n",
            "10/10 [==============================] - 11s 1s/step - loss: 0.4618 - acc: 0.7845 - val_loss: 0.6758 - val_acc: 0.5926\n",
            "\n",
            "Epoch 00015: val_acc did not improve from 0.78519\n",
            "Epoch 16/30\n",
            "10/10 [==============================] - 11s 1s/step - loss: 0.4049 - acc: 0.8307 - val_loss: 0.7385 - val_acc: 0.5481\n",
            "\n",
            "Epoch 00016: val_acc did not improve from 0.78519\n",
            "Epoch 17/30\n",
            "10/10 [==============================] - 11s 1s/step - loss: 0.4903 - acc: 0.7603 - val_loss: 0.3972 - val_acc: 0.8444\n",
            "\n",
            "Epoch 00017: val_acc improved from 0.78519 to 0.84444, saving model to best_model.h5\n",
            "Epoch 18/30\n",
            "10/10 [==============================] - 11s 1s/step - loss: 0.4298 - acc: 0.8165 - val_loss: 0.4579 - val_acc: 0.7852\n",
            "\n",
            "Epoch 00018: val_acc did not improve from 0.84444\n",
            "Epoch 19/30\n",
            "10/10 [==============================] - 11s 1s/step - loss: 0.4560 - acc: 0.7968 - val_loss: 0.5697 - val_acc: 0.6875\n",
            "\n",
            "Epoch 00019: val_acc did not improve from 0.84444\n",
            "Epoch 20/30\n",
            "10/10 [==============================] - 11s 1s/step - loss: 0.3863 - acc: 0.8336 - val_loss: 0.6002 - val_acc: 0.6593\n",
            "\n",
            "Epoch 00020: val_acc did not improve from 0.84444\n",
            "Epoch 21/30\n",
            "10/10 [==============================] - 11s 1s/step - loss: 0.4462 - acc: 0.8125 - val_loss: 0.6119 - val_acc: 0.6296\n",
            "\n",
            "Epoch 00021: val_acc did not improve from 0.84444\n",
            "Epoch 22/30\n",
            "10/10 [==============================] - 11s 1s/step - loss: 0.4216 - acc: 0.8150 - val_loss: 0.5231 - val_acc: 0.7259\n",
            "\n",
            "Epoch 00022: val_acc did not improve from 0.84444\n",
            "Epoch 23/30\n",
            "10/10 [==============================] - 12s 1s/step - loss: 0.4703 - acc: 0.7656 - val_loss: 0.4823 - val_acc: 0.7333\n",
            "\n",
            "Epoch 00023: val_acc did not improve from 0.84444\n",
            "Epoch 24/30\n",
            "10/10 [==============================] - 11s 1s/step - loss: 0.3968 - acc: 0.8405 - val_loss: 0.5097 - val_acc: 0.7481\n",
            "\n",
            "Epoch 00024: val_acc did not improve from 0.84444\n",
            "Epoch 25/30\n",
            "10/10 [==============================] - 12s 1s/step - loss: 0.4086 - acc: 0.8304 - val_loss: 0.4453 - val_acc: 0.7750\n",
            "\n",
            "Epoch 00025: val_acc did not improve from 0.84444\n",
            "Epoch 26/30\n",
            "10/10 [==============================] - 11s 1s/step - loss: 0.4782 - acc: 0.7751 - val_loss: 0.4554 - val_acc: 0.7852\n",
            "\n",
            "Epoch 00026: val_acc did not improve from 0.84444\n",
            "Epoch 27/30\n",
            "10/10 [==============================] - 11s 1s/step - loss: 0.4195 - acc: 0.8251 - val_loss: 0.5755 - val_acc: 0.6963\n",
            "\n",
            "Epoch 00027: val_acc did not improve from 0.84444\n",
            "Epoch 28/30\n",
            "10/10 [==============================] - 11s 1s/step - loss: 0.4588 - acc: 0.8059 - val_loss: 0.5732 - val_acc: 0.7111\n",
            "\n",
            "Epoch 00028: val_acc did not improve from 0.84444\n",
            "Epoch 29/30\n",
            "10/10 [==============================] - 11s 1s/step - loss: 0.4455 - acc: 0.8219 - val_loss: 0.5325 - val_acc: 0.7630\n",
            "\n",
            "Epoch 00029: val_acc did not improve from 0.84444\n",
            "Epoch 30/30\n",
            "10/10 [==============================] - 11s 1s/step - loss: 0.3969 - acc: 0.8345 - val_loss: 0.4584 - val_acc: 0.7926\n",
            "\n",
            "Epoch 00030: val_acc did not improve from 0.84444\n"
          ],
          "name": "stdout"
        },
        {
          "output_type": "execute_result",
          "data": {
            "text/plain": [
              "<keras.callbacks.History at 0x7f54eea1ae80>"
            ]
          },
          "metadata": {
            "tags": []
          },
          "execution_count": 15
        }
      ]
    },
    {
      "metadata": {
        "id": "B4ps1HbMuViE",
        "colab_type": "code",
        "colab": {
          "base_uri": "https://localhost:8080/",
          "height": 34
        },
        "outputId": "e10e4b36-77ea-41ea-ab9a-8a777dd27d58"
      },
      "cell_type": "code",
      "source": [
        "import numpy as np\n",
        "\n",
        "np.random.seed(7)\n",
        "print(\"Loading previous weights\")\n",
        "model.load_weights(\"best_model.h5\")\n",
        "model.compile(optimizer='adam',loss='binary_crossentropy',metrics=['accuracy'])"
      ],
      "execution_count": 16,
      "outputs": [
        {
          "output_type": "stream",
          "text": [
            "Loading previous weights\n"
          ],
          "name": "stdout"
        }
      ]
    },
    {
      "metadata": {
        "id": "NR_E4XECKM9q",
        "colab_type": "code",
        "colab": {
          "base_uri": "https://localhost:8080/",
          "height": 34
        },
        "outputId": "0314870a-106f-4e22-8eeb-03b25846ec82"
      },
      "cell_type": "code",
      "source": [
        "test_datagen= ImageDataGenerator(rescale =1./255)\n",
        "test_generator = test_datagen.flow_from_directory('Cancer-Cells-Classification/val',\n",
        "                                                 target_size=(224,224),\n",
        "                                                 color_mode='rgb',\n",
        "                                                 batch_size=32,\n",
        "                                                 class_mode='binary',\n",
        "                                                 shuffle=False)\n",
        "\n",
        "filenames = test_generator.filenames\n",
        "number_of_samples = len(filenames)\n",
        "\n",
        "predictions = model.predict_generator(test_generator, steps = 6)\n",
        "performance = model.evaluate_generator(test_generator,steps = 6)"
      ],
      "execution_count": 52,
      "outputs": [
        {
          "output_type": "stream",
          "text": [
            "Found 167 images belonging to 2 classes.\n"
          ],
          "name": "stdout"
        }
      ]
    },
    {
      "metadata": {
        "id": "yJdclG1mKuVY",
        "colab_type": "code",
        "colab": {
          "base_uri": "https://localhost:8080/",
          "height": 51
        },
        "outputId": "0b2b2267-7837-4f8f-bb83-d91eb0629e7f"
      },
      "cell_type": "code",
      "source": [
        "print(model.metrics_names)\n",
        "# print(predictions)\n",
        "\n",
        "print(f\"{model.metrics_names[0]}: {performance[0]} and {model.metrics_names[1]}: {performance[1]}\")"
      ],
      "execution_count": 53,
      "outputs": [
        {
          "output_type": "stream",
          "text": [
            "['loss', 'acc']\n",
            "loss: 0.4590100296243222 and acc: 0.7964071859856565\n"
          ],
          "name": "stdout"
        }
      ]
    },
    {
      "metadata": {
        "id": "jxcrw-BGLB2e",
        "colab_type": "code",
        "colab": {
          "base_uri": "https://localhost:8080/",
          "height": 54
        },
        "outputId": "a34f00a1-3be8-461b-b777-5f5ab7019df5"
      },
      "cell_type": "code",
      "source": [
        "y_pred = []\n",
        "for value in predictions: \n",
        "  if value >= 0.5: \n",
        "    y_pred.append(1)\n",
        "  else: \n",
        "    y_pred.append(0)\n",
        "    \n",
        "print(y_pred)"
      ],
      "execution_count": 54,
      "outputs": [
        {
          "output_type": "stream",
          "text": [
            "[0, 0, 0, 0, 0, 0, 1, 0, 0, 0, 0, 0, 0, 0, 0, 0, 0, 0, 0, 1, 0, 0, 0, 1, 1, 0, 0, 1, 1, 0, 1, 1, 1, 0, 0, 0, 0, 0, 0, 0, 0, 0, 0, 0, 0, 0, 0, 0, 1, 0, 0, 0, 0, 1, 1, 0, 1, 1, 0, 0, 0, 0, 1, 0, 0, 0, 1, 0, 1, 0, 0, 1, 0, 0, 0, 0, 0, 0, 0, 0, 0, 0, 0, 1, 0, 0, 0, 0, 0, 0, 0, 0, 1, 0, 0, 0, 1, 0, 1, 0, 0, 0, 0, 0, 1, 0, 0, 1, 1, 1, 0, 0, 1, 1, 1, 1, 0, 1, 1, 1, 1, 1, 1, 1, 1, 1, 1, 0, 1, 0, 1, 0, 1, 1, 1, 1, 1, 1, 1, 1, 1, 1, 1, 0, 1, 1, 1, 1, 1, 1, 1, 1, 0, 1, 1, 1, 1, 1, 1, 1, 1, 1, 1, 1, 1, 0, 1]\n"
          ],
          "name": "stdout"
        }
      ]
    },
    {
      "metadata": {
        "id": "rrg6-1galrVP",
        "colab_type": "code",
        "colab": {
          "base_uri": "https://localhost:8080/",
          "height": 170
        },
        "outputId": "7e5b4556-7515-4b24-b071-917b92d4117d"
      },
      "cell_type": "code",
      "source": [
        "from sklearn.metrics import classification_report, accuracy_score, roc_auc_score\n",
        "\n",
        "print(classification_report(list(test_generator.classes), y_pred, target_names= [\"negative\", \"positive\"]))"
      ],
      "execution_count": 58,
      "outputs": [
        {
          "output_type": "stream",
          "text": [
            "              precision    recall  f1-score   support\n",
            "\n",
            "    negative       0.87      0.79      0.83       103\n",
            "    positive       0.70      0.81      0.75        64\n",
            "\n",
            "   micro avg       0.80      0.80      0.80       167\n",
            "   macro avg       0.79      0.80      0.79       167\n",
            "weighted avg       0.81      0.80      0.80       167\n",
            "\n"
          ],
          "name": "stdout"
        }
      ]
    },
    {
      "metadata": {
        "id": "iKeHAZRRkX18",
        "colab_type": "code",
        "colab": {
          "base_uri": "https://localhost:8080/",
          "height": 34
        },
        "outputId": "23407492-20e1-41ca-9003-e7a651ddb797"
      },
      "cell_type": "code",
      "source": [
        "print(roc_auc_score(list(test_generator.classes), y_pred))"
      ],
      "execution_count": 60,
      "outputs": [
        {
          "output_type": "stream",
          "text": [
            "0.7994538834951456\n"
          ],
          "name": "stdout"
        }
      ]
    },
    {
      "metadata": {
        "id": "Wl7kbSVbkfjG",
        "colab_type": "code",
        "colab": {}
      },
      "cell_type": "code",
      "source": [
        ""
      ],
      "execution_count": 0,
      "outputs": []
    },
    {
      "metadata": {
        "id": "WHfO8RUHkj6Y",
        "colab_type": "code",
        "colab": {}
      },
      "cell_type": "code",
      "source": [
        ""
      ],
      "execution_count": 0,
      "outputs": []
    },
    {
      "metadata": {
        "id": "AQuzY-ksk_Ol",
        "colab_type": "code",
        "colab": {}
      },
      "cell_type": "code",
      "source": [
        ""
      ],
      "execution_count": 0,
      "outputs": []
    }
  ]
}